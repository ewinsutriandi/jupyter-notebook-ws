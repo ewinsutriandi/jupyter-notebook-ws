{
 "cells": [
  {
   "cell_type": "code",
   "execution_count": 1,
   "metadata": {},
   "outputs": [
    {
     "ename": "ModuleNotFoundError",
     "evalue": "No module named 'requests'",
     "output_type": "error",
     "traceback": [
      "\u001b[0;31m---------------------------------------------------------------------------\u001b[0m",
      "\u001b[0;31mModuleNotFoundError\u001b[0m                       Traceback (most recent call last)",
      "\u001b[0;32m<ipython-input-1-16f00b9224c5>\u001b[0m in \u001b[0;36m<module>\u001b[0;34m\u001b[0m\n\u001b[0;32m----> 1\u001b[0;31m \u001b[0;32mimport\u001b[0m \u001b[0mrequests\u001b[0m \u001b[0;32mas\u001b[0m \u001b[0mreq\u001b[0m\u001b[0;34m\u001b[0m\u001b[0;34m\u001b[0m\u001b[0m\n\u001b[0m\u001b[1;32m      2\u001b[0m \u001b[0;32mimport\u001b[0m \u001b[0mrandom\u001b[0m\u001b[0;34m\u001b[0m\u001b[0;34m\u001b[0m\u001b[0m\n\u001b[1;32m      3\u001b[0m \u001b[0;34m\u001b[0m\u001b[0m\n\u001b[1;32m      4\u001b[0m \u001b[0mapi\u001b[0m \u001b[0;34m=\u001b[0m \u001b[0;34m'https://kawal-c1.appspot.com/api/c/'\u001b[0m \u001b[0;31m# alamat API\u001b[0m\u001b[0;34m\u001b[0m\u001b[0;34m\u001b[0m\u001b[0m\n\u001b[1;32m      5\u001b[0m \u001b[0;34m\u001b[0m\u001b[0m\n",
      "\u001b[0;31mModuleNotFoundError\u001b[0m: No module named 'requests'"
     ]
    }
   ],
   "source": [
    "import requests as req\n",
    "import random\n",
    "\n",
    "api = 'https://kawal-c1.appspot.com/api/c/' # alamat API\n",
    "\n",
    "def getRandomTPSElectionData(id='0'):\n",
    "  addr = api + str(id)\n",
    "  rslt = req.get(addr)\n",
    "  if rslt.status_code == req.codes.ok:\n",
    "    data = rslt.json()\n",
    "    if data['depth'] < 4:\n",
    "      children = list(data['children'])\n",
    "      selected_child = random.choice(children)\n",
    "      next_id = selected_child[0]\n",
    "      if next_id == -99: # exclude oversea polling stations for the sake shorter LOC\n",
    "        return False  \n",
    "      return getRandomTPSElectionData(next_id)\n",
    "    else:\n",
    "      try:\n",
    "        tps_list = list(data['data'])\n",
    "        selected_tps = random.choice(tps_list)\n",
    "        no_tps = selected_tps[0]\n",
    "        summary = data['data'][no_tps]['sum']\n",
    "        tpsid = '-'.join(data['parentNames'])+ data['name']+'- TPS NO '+no_tps\n",
    "        pas1 = summary['pas1']\n",
    "        pas2 = summary['pas2']\n",
    "        tsah = summary['tSah']\n",
    "        return tpsid,pas1,pas2,tsah\n",
    "      except Exception as e:\n",
    "        # error caused by non existent/non complete data\n",
    "        return False"
   ]
  },
  {
   "cell_type": "code",
   "execution_count": null,
   "metadata": {},
   "outputs": [],
   "source": [
    "# retrieve samples\n",
    "sample_size = 5\n",
    "sample_cnt = 0\n",
    "samples = []\n",
    "\n",
    "while sample_cnt < sample_size:\n",
    "  rslt = getRandomTPSElectionData()   \n",
    "  if rslt!=False:\n",
    "    sample_cnt += 1\n",
    "    samples.append(rslt)\n"
   ]
  },
  {
   "cell_type": "code",
   "execution_count": null,
   "metadata": {},
   "outputs": [],
   "source": [
    "# print summary\n",
    "pas01 = sum([tps[1] for tps in samples])\n",
    "pas02 = sum([tps[2] for tps in samples])\n",
    "tdk_sah = sum([tps[3] for tps in samples])\n",
    "total = pas01 + pas02 + tdk_sah\n",
    "\n",
    "pas01pct = round(pas01 / total * 100, 2)\n",
    "pas02pct = round(pas02 / total * 100, 2)\n",
    "\n",
    "print('Perolehan suara dari sampel {} tps'.format(sample_cnt))\n",
    "print('Pasangan 01 {} / {}% suara'.format(pas01,pas01pct))\n",
    "print('Pasangan 02 {} / {}% suara'.format(pas02,pas02pct))\n",
    "print('Total suara={}, suara tidak sah={}'.format(total,tdk_sah))"
   ]
  },
  {
   "cell_type": "code",
   "execution_count": null,
   "metadata": {},
   "outputs": [],
   "source": [
    "# plot data sample size vs pct of vote for each candidate\n",
    "%matplotlib inline\n",
    "import matplotlib.pyplot as plt\n",
    "import numpy as np\n",
    "\n",
    "s = np.arange(1,len(samples)+1)\n",
    "pct01 = []\n",
    "pct02 = []\n",
    "pctts = []\n",
    "for s in samples:\n",
    "    v01 = s[1]\n",
    "    v02 = s[2]\n",
    "    vts = s[3]\n",
    "    tot = v01 + v02 + v03\n",
    "    pct01.append(round(v01/tot * 100,2))\n",
    "    pct02.append(round(v02/tot * 100,2))\n",
    "    pctts.append(round(vts/tot * 100,2))\n",
    "\n",
    "plt.plot(s,pct01)\n",
    "\n",
    "    "
   ]
  }
 ],
 "metadata": {
  "kernelspec": {
   "display_name": "Python 3",
   "language": "python",
   "name": "python3"
  },
  "language_info": {
   "codemirror_mode": {
    "name": "ipython",
    "version": 3
   },
   "file_extension": ".py",
   "mimetype": "text/x-python",
   "name": "python",
   "nbconvert_exporter": "python",
   "pygments_lexer": "ipython3",
   "version": "3.6.7"
  }
 },
 "nbformat": 4,
 "nbformat_minor": 2
}
